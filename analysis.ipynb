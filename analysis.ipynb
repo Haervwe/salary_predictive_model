{
 "cells": [
  {
   "cell_type": "markdown",
   "metadata": {},
   "source": [
    "# Salary Predictive model."
   ]
  },
  {
   "cell_type": "markdown",
   "metadata": {},
   "source": [
    "# Table of Contents\n",
    "\n",
    "## [1. Data Loading and Preprocessing](#1-data-loading-and-preprocessing)\n",
    "### [1.1. Loading Data](#11-loading-data)\n",
    "### [1.2. Data Cleansing and Imputation](#12-data-cleansing-and-imputation)\n",
    "### [1.3. Data Visualization](#13-data-visualization)\n",
    "\n",
    "## [2. Feature Engineering and Data Splitting](#2-feature-engineering-and-data-splitting)\n",
    "### [2.1. Splitting Data](#21-splitting-data)\n",
    "### [2.2. Data Normalization and Scaling](#22-data-normalization-and-scaling)\n",
    "\n",
    "## [3. Model Training and Evaluation](#3-model-training-and-evaluation)\n",
    "### [3.1. Baseline Model: Dummy Regressor](#31-baseline-model-dummy-regressor)\n",
    "### [3.2. Random Forest Regressor](#32-random-forest-regressor)\n",
    "### [3.3. RFR initial testing](#33-rfr-initial-testing)\n",
    "### [3.4. Feature Selection Process](#34-feature-selection-process)\n",
    "### [3.5. Neural Network Model](#35-neural-network-model)\n",
    "### [3.5. Neural Network Model initial testing](#35-neural-network-model-initial-testing)\n",
    "\n",
    "## [4. Model Comparison](#4-model-comparison)\n",
    "### [4.1. Final Model Selection](#41-final-model-selection)\n",
    "\n",
    "## [5. Inference](#5-inference)"
   ]
  },
  {
   "cell_type": "code",
   "execution_count": 1,
   "metadata": {},
   "outputs": [
    {
     "name": "stderr",
     "output_type": "stream",
     "text": [
      "2025-01-16 17:01:35.727838: I tensorflow/core/platform/cpu_feature_guard.cc:210] This TensorFlow binary is optimized to use available CPU instructions in performance-critical operations.\n",
      "To enable the following instructions: SSE3 SSE4.1 SSE4.2 AVX AVX2 FMA, in other operations, rebuild TensorFlow with the appropriate compiler flags.\n"
     ]
    }
   ],
   "source": [
    "#necesary imports\n",
    "\n",
    "import matplotlib.font_manager as fm\n",
    "import logging\n",
    "import pickle\n",
    "import pandas as pd\n",
    "from sklearn.preprocessing import MinMaxScaler, StandardScaler\n",
    "from sklearn.ensemble import RandomForestRegressor\n",
    "from tensorflow import keras\n",
    "import joblib\n",
    "fm._log.setLevel(logging.WARNING)\n",
    "from src import data_loading\n",
    "from src import preprocessing\n",
    "from src import visualize_data\n",
    "from src import feature_engenieering\n",
    "from src import modeling\n",
    "from src import evaluation\n",
    "from src import model_compare\n",
    "from src import inference\n",
    "from src.inference_jupyter_form import create_input_form"
   ]
  },
  {
   "cell_type": "markdown",
   "metadata": {},
   "source": [
    "# 1 Data Loading and preprocessing\n",
    "\n",
    "The data preprocessing pipeline consists of several key stages to prepare the dataset for modeling:"
   ]
  },
  {
   "cell_type": "markdown",
   "metadata": {},
   "source": [
    "## 1.1 Loading Data\n",
    "\n",
    "\n",
    "\n",
    " The `load_data` function in `data_loading.py` loads multiple CSV files and merges them into a single DataFrame using the 'id' column as the merging key.\n",
    "\n"
   ]
  },
  {
   "cell_type": "code",
   "execution_count": 2,
   "metadata": {},
   "outputs": [],
   "source": [
    "\n",
    "#files path for the raw dataset:\n",
    "\n",
    "data_files = ['./data/people.csv','./data/descriptions.csv','./data/salary.csv',]\n",
    "\n",
    "\n",
    "#merge datasets in a cohesive Dataframe\n",
    "\n",
    "full_dataset = data_loading.load_data(data_files)\n"
   ]
  },
  {
   "cell_type": "markdown",
   "metadata": {},
   "source": [
    "## 1.2 Data cleansing and imputation\n",
    "\n",
    "The `infer_missing_values_in_dataframe` function in `llm_dataset_filler.py` uses a local LLM to infer missing values for specific fields (e.g., Age, Gender, Education Level) based on the provided descriptions. It utilizes asynchronous calls to the LLM API and updates the DataFrame with inferred values."
   ]
  },
  {
   "cell_type": "code",
   "execution_count": null,
   "metadata": {},
   "outputs": [],
   "source": [
    "\n",
    "\n",
    "#preprocessing of the dataframe adds missing values with LLM inference over descriptions of each row, drops the incomplete rows and cleans up the data.\n",
    "\n",
    "cleansed_dataset = await preprocessing.preprocess(full_dataset)\n"
   ]
  },
  {
   "cell_type": "markdown",
   "metadata": {},
   "source": [
    "## 1.3 Data Visualization\n",
    "\n",
    "Im using simple visualizations for the dataset in order to see if how the datset is distributed."
   ]
  },
  {
   "cell_type": "code",
   "execution_count": null,
   "metadata": {},
   "outputs": [],
   "source": [
    "\n",
    "visualize_data.visualize_dataset(cleansed_dataset)"
   ]
  },
  {
   "cell_type": "markdown",
   "metadata": {},
   "source": [
    "# 2 Feature engineering and data splitting"
   ]
  },
  {
   "cell_type": "markdown",
   "metadata": {},
   "source": [
    "## 2.1 Splitting data\n",
    "\n",
    "Dividing the dataset into training and testing subsets to evaluate model performance. This step ensures an unbiased assessment of the model's capabilities."
   ]
  },
  {
   "cell_type": "code",
   "execution_count": 5,
   "metadata": {},
   "outputs": [],
   "source": [
    "\n",
    "#split the dataset into an 80 / 20 ratio for training and testing.\n",
    "\n",
    "X_train, X_test, y_train, y_test = feature_engenieering.split_data(cleansed_dataset)\n",
    "\n"
   ]
  },
  {
   "cell_type": "markdown",
   "metadata": {},
   "source": [
    "## 2.2 Data Normalization and Scaling\n",
    "\n",
    " Normalizing and scaling data to standardize features, which helps improve model convergence and performance. unsing  Min-Max Scaling for the RNR model and Standardization for the NN model, the values for categorical features are treated case by case,for education its modeled as a linear relationship meaning 0 for bachellors m 1 for Masters and 2 for PHD, the Job title values since they have a strong correlation with salary but lack cardinality, the target encoder method seems to be the optimal. once the datasets are created are saved along with scalers and the job title target encoded table and their values in pkl format to be used later for training and inference respectibly."
   ]
  },
  {
   "cell_type": "code",
   "execution_count": null,
   "metadata": {},
   "outputs": [],
   "source": [
    "\n",
    "#normalize and scale the datasets using MinMaxScaler and target encoder for random forest\n",
    "\n",
    "normalized_X_train, te, scaler = feature_engenieering.normalize_train_data(X_train, y_train,MinMaxScaler())\n",
    "\n",
    "normalized_X_test = feature_engenieering.normalize_test_data(X_test, te, scaler)\n",
    "\n",
    "\n",
    "#normalize and scale the datasets using MinMaxScaler and target encoder for Neural Networks\n",
    "\n",
    "normalized_X_train_nn, te_nn, scaler_nn = feature_engenieering.normalize_train_data(X_train, y_train,StandardScaler(),\"nn_\")\n",
    "\n",
    "normalized_X_test_nn = feature_engenieering.normalize_test_data(X_test, te_nn, scaler_nn)\n",
    "\n",
    "X_train.to_pickle(\"./data/X_train.pkl\")\n",
    "y_train.to_pickle(\"./data/y_train.pkl\")\n",
    "X_test.to_pickle(\"./data/X_test.pkl\")\n",
    "y_test.to_pickle(\"./data/y_test.pkl\")\n",
    "normalized_X_train.to_pickle(\"./data/normalized_X_train.pkl\")\n",
    "normalized_X_train_nn.to_pickle(\"./data/normalized_X_train_nn.pkl\")\n",
    "normalized_X_test.to_pickle(\"./data/normalized_X_test.pkl\")\n",
    "normalized_X_test_nn.to_pickle(\"./data/normalized_X_test_nn.pkl\")\n"
   ]
  },
  {
   "cell_type": "markdown",
   "metadata": {},
   "source": [
    "# 3 Model Training and Evaluation\n",
    "\n",
    "The first step is to load all the relevant files in memory."
   ]
  },
  {
   "cell_type": "code",
   "execution_count": 2,
   "metadata": {},
   "outputs": [],
   "source": [
    "#Load generated datasets as pkl\n",
    "\n",
    "normalized_X_train = pd.read_pickle('./data/normalized_X_train.pkl')\n",
    "normalized_X_train_nn = pd.read_pickle('./data/normalized_X_train_nn.pkl')\n",
    "\n",
    "normalized_X_test = pd.read_pickle('./data/normalized_X_test.pkl')\n",
    "normalized_X_test_nn = pd.read_pickle('./data/normalized_X_test_nn.pkl')\n",
    "\n",
    "y_train = pd.read_pickle('./data/y_train.pkl')\n",
    "y_test = pd.read_pickle('./data/y_test.pkl')"
   ]
  },
  {
   "cell_type": "markdown",
   "metadata": {},
   "source": [
    "## 3.1 Baseline Model: Dummy Regressor\n",
    "\n",
    "Establishing a baseline performance using a dummy regressor. This simple model provides a reference point for comparing advanced models."
   ]
  },
  {
   "cell_type": "markdown",
   "metadata": {},
   "source": [
    "With the datasets created we use the train with MinMaxScaling dataset splits in a script to create a Random Forest Regressor using the scikit-learn framework."
   ]
  },
  {
   "cell_type": "markdown",
   "metadata": {},
   "source": [
    "traing a Dummy Reggressor to use as a baseline for model performance comparison and then train a Random Forest Regressor algorithm with hyperparameter tuning. We also evaluate the trained model by calculating metrics such as mean absolute error (MAE), root mean squared error (RMSE) and R-squared e (R2) and plot a scatterplot of predicted vs actual salaries."
   ]
  },
  {
   "cell_type": "code",
   "execution_count": null,
   "metadata": {},
   "outputs": [],
   "source": [
    "\n",
    "dummy = modeling.train_dummy_regressor(normalized_X_train, y_train)"
   ]
  },
  {
   "cell_type": "markdown",
   "metadata": {},
   "source": [
    "## 3.2 Random Forest Regressor\n",
    "\n",
    "Training a Random Forest Regressor, a robust ensemble model, to predict target variables. This model aggregates results from multiple decision trees. this step also includes Optimizing model performance by tuning hyperparameters and selecting the most relevant features using a grid search technique"
   ]
  },
  {
   "cell_type": "code",
   "execution_count": null,
   "metadata": {},
   "outputs": [],
   "source": [
    "#train a model using a random forest regressor algorithm and print out the predictions for the normalized test data.\n",
    "\n",
    "rf_model = modeling.train_model(normalized_X_train, y_train)\n"
   ]
  },
  {
   "cell_type": "markdown",
   "metadata": {},
   "source": [
    "## 3.3 RFR initial testing"
   ]
  },
  {
   "cell_type": "code",
   "execution_count": null,
   "metadata": {},
   "outputs": [],
   "source": [
    "#use the test dataset to predict salaries based on the trained model for a first fast evaluation.\n",
    "\n",
    "\n",
    "rf_model = joblib.load(open('./models/random_forest_model.pkl', 'rb'))\n",
    "\n",
    "evaluation.evaluate_model(normalized_X_test, y_test, normalized_X_train,y_train, rf_model)"
   ]
  },
  {
   "cell_type": "markdown",
   "metadata": {},
   "source": [
    "Next we use Confidence intervals to further test the  models performance using bootstraping "
   ]
  },
  {
   "cell_type": "code",
   "execution_count": null,
   "metadata": {},
   "outputs": [],
   "source": [
    "\n",
    "rf_model = joblib.load(open('./models/random_forest_model.pkl', 'rb'))\n",
    "\n",
    "evaluation.calculate_metrics(normalized_X_test, y_test, rf_model)"
   ]
  },
  {
   "cell_type": "markdown",
   "metadata": {},
   "source": [
    "## 3.4 Feature selection process.\n",
    "\n"
   ]
  },
  {
   "cell_type": "markdown",
   "metadata": {},
   "source": [
    "I choose the Random Forest Reggresor to be able to catch non linear relationships better with realtively low data quantity for training, the model is Hyperparametrized using a grid approach and the best model is selected for testing.\n",
    "\n",
    "In the process of selecting features for the Random Forest Regressor model, based on correlation and feature importance analysis after the first \"naive\" model was trained in the normalized data as is to gather more information on the relationships and model error R-squared Score (R²).\n",
    "\n",
    "it is also quite notable that the heteroscedasticity present in the middle of the distribution seems to be caused by the dataset itself, most possibly by the lack of examples to fill the distribution appropiately, otherwise the distribution of residuals seems to be acceptable considering there are no statiscally significant outliers in the dataset.\n",
    "\n",
    "        Random Forest Regressor Performance After Hyperparameter Tuning:\n",
    "        Mean Squared Error (MSE): 866064920.96\n",
    "        Mean Absolute Error (MAE): 17982.33\n",
    "        R-squared Score (R²): 0.65\n",
    "        \n",
    "![img](./plots/residuals_distribution.png)\n",
    "![Feature Importance](./plots/feature_importance.png)\n",
    "![feature correlation heatmap](./plots/feature_correlation_heatmap.png)\n",
    "\n",
    "\n",
    "\n",
    "It can be seen now better results by droping geneder since it has a really low correlation with salary and importance , and lower the smoothing for the encoded job titles to 3 (10 was the previous value).\n",
    "\n",
    "        Random Forest Regressor Performance After Hyperparameter Tuning:\n",
    "        Mean Squared Error (MSE): 600148032.12\n",
    "        Mean Absolute Error (MAE): 14748.68\n",
    "        R-squared Score (R²): 0.76\n",
    "\n",
    "![img](./plots/residuals_distribution_2.png)\n",
    "![Feature Importance](./plots/feature_importance_2.png)\n",
    "![feature correlation heatmap](./plots/feature_correlation_heatmap_2.png)\n",
    "\n",
    "        \n",
    "next feature to remove, surprinsingly is education level wich has a low correlation with salary, but if pruned from the dataset the model shows performs worst than before with the same hyperparametrization.\n",
    "\n",
    "        Random Forest Regressor Performance After Hyperparameter Tuning:\n",
    "        Mean Squared Error (MSE): 808374516.33\n",
    "        Mean Absolute Error (MAE): 17240.95\n",
    "        R-squared Score (R²): 0.67\n",
    "\n",
    "![img](./plots/residuals_distribution_3.png)\n",
    "![Feature Importance](./plots/feature_importance_3.png)\n",
    "![feature correlation heatmap](./plots/feature_correlation_heatmap_3.png)\n",
    "\n"
   ]
  },
  {
   "cell_type": "markdown",
   "metadata": {},
   "source": [
    "## 3.5 Neural Network Model"
   ]
  },
  {
   "cell_type": "markdown",
   "metadata": {},
   "source": [
    "in this step we create a second model to test performance of different approaches in this specific problem. I'm using the same dataset and features as the random forest regressor but normalized using the stardad scaling between  wich provides better performances on NN sequiential models."
   ]
  },
  {
   "cell_type": "code",
   "execution_count": null,
   "metadata": {},
   "outputs": [],
   "source": [
    "nn_model = modeling.train_NN_model(normalized_X_train_nn,y_train)"
   ]
  },
  {
   "cell_type": "markdown",
   "metadata": {},
   "source": [
    "## 3.6 Neural Network Model initial testing"
   ]
  },
  {
   "cell_type": "code",
   "execution_count": 3,
   "metadata": {},
   "outputs": [
    {
     "name": "stderr",
     "output_type": "stream",
     "text": [
      "2025-01-16 17:01:56.153867: I external/local_xla/xla/stream_executor/rocm/rocm_executor.cc:920] successful NUMA node read from SysFS had negative value (-1), but there must be at least one NUMA node, so returning NUMA node zero\n",
      "2025-01-16 17:01:58.651800: I external/local_xla/xla/stream_executor/rocm/rocm_executor.cc:920] successful NUMA node read from SysFS had negative value (-1), but there must be at least one NUMA node, so returning NUMA node zero\n",
      "2025-01-16 17:01:58.652013: I external/local_xla/xla/stream_executor/rocm/rocm_executor.cc:920] successful NUMA node read from SysFS had negative value (-1), but there must be at least one NUMA node, so returning NUMA node zero\n",
      "2025-01-16 17:01:58.653485: I external/local_xla/xla/stream_executor/rocm/rocm_executor.cc:920] successful NUMA node read from SysFS had negative value (-1), but there must be at least one NUMA node, so returning NUMA node zero\n",
      "2025-01-16 17:01:58.653639: I external/local_xla/xla/stream_executor/rocm/rocm_executor.cc:920] successful NUMA node read from SysFS had negative value (-1), but there must be at least one NUMA node, so returning NUMA node zero\n",
      "2025-01-16 17:01:58.653718: I external/local_xla/xla/stream_executor/rocm/rocm_executor.cc:920] successful NUMA node read from SysFS had negative value (-1), but there must be at least one NUMA node, so returning NUMA node zero\n",
      "2025-01-16 17:01:58.653829: I external/local_xla/xla/stream_executor/rocm/rocm_executor.cc:920] successful NUMA node read from SysFS had negative value (-1), but there must be at least one NUMA node, so returning NUMA node zero\n",
      "2025-01-16 17:01:58.653889: I external/local_xla/xla/stream_executor/rocm/rocm_executor.cc:920] successful NUMA node read from SysFS had negative value (-1), but there must be at least one NUMA node, so returning NUMA node zero\n",
      "2025-01-16 17:01:58.653973: I external/local_xla/xla/stream_executor/rocm/rocm_executor.cc:920] successful NUMA node read from SysFS had negative value (-1), but there must be at least one NUMA node, so returning NUMA node zero\n",
      "2025-01-16 17:01:58.654003: I tensorflow/core/common_runtime/gpu/gpu_device.cc:2021] Created device /job:localhost/replica:0/task:0/device:GPU:0 with 15304 MB memory:  -> device: 0, name: AMD Radeon RX 6900 XT, pci bus id: 0000:0a:00.0\n",
      "WARNING: All log messages before absl::InitializeLog() is called are written to STDERR\n",
      "I0000 00:00:1737057719.755378  172500 service.cc:146] XLA service 0x7db3cc007210 initialized for platform ROCM (this does not guarantee that XLA will be used). Devices:\n",
      "I0000 00:00:1737057719.755411  172500 service.cc:154]   StreamExecutor device (0): AMD Radeon RX 6900 XT, AMDGPU ISA version: gfx1030\n",
      "2025-01-16 17:01:59.759780: I tensorflow/compiler/mlir/tensorflow/utils/dump_mlir_util.cc:268] disabling MLIR crash reproducer, set env var `MLIR_CRASH_REPRODUCER_DIRECTORY` to enable.\n",
      "I0000 00:00:1737057720.914785  172500 device_compiler.h:188] Compiled cluster using XLA!  This line is logged at most once for the lifetime of the process.\n"
     ]
    },
    {
     "data": {
      "image/png": "[encoded data removed]",
      "text/plain": [
       "<Figure size 1000x600 with 1 Axes>"
      ]
     },
     "metadata": {},
     "output_type": "display_data"
    },
    {
     "data": {
      "image/png": "[encoded data removed]",
      "text/plain": [
       "<Figure size 1000x600 with 1 Axes>"
      ]
     },
     "metadata": {},
     "output_type": "display_data"
    },
    {
     "data": {
      "application/vnd.jupyter.widget-view+json": {
       "model_id": "1aa0ff5a2b5c4c269f11e9831c69428a",
       "version_major": 2,
       "version_minor": 0
      },
      "text/plain": [
       "  0%|          | 0/75 [00:00<?, ?it/s]"
      ]
     },
     "metadata": {},
     "output_type": "display_data"
    },
    {
     "name": "stdout",
     "output_type": "stream",
     "text": [
      "Warning: SHAP analysis failed with error: only integer scalar arrays can be converted to a scalar index\n",
      "Continuing with other evaluations...\n",
      "\n",
      "Neural Network Performance:\n",
      "MSE: 466362141.64\n",
      "MAE: 14156.31\n",
      "R-squared Score (R²): 0.80\n"
     ]
    },
    {
     "data": {
      "text/plain": [
       "{'mse': 466362141.6388499,\n",
       " 'mae': 14156.306302083334,\n",
       " 'r2': 0.8049912432794364,\n",
       " 'predictions': array([107082.61 ,  98076.82 , 115124.11 ,  51857.87 , 137445.39 ,\n",
       "         43709.055, 135256.23 , 103263.63 , 124978.586,  96276.516,\n",
       "         50219.504, 131738.3  ,  64435.047,  84334.09 , 114176.76 ,\n",
       "         99064.68 ,  77253.055,  79473.58 ,  54535.31 ,  91630.46 ,\n",
       "        125761.96 , 105851.375, 137462.48 ,  93679.055,  81071.016,\n",
       "         56650.848,  63636.742,  40723.1  , 105675.08 , 167186.58 ,\n",
       "         67938.11 , 101245.28 ,  72309.516, 141560.14 , 195308.7  ,\n",
       "         42454.938, 167804.03 ,  72409.54 , 151214.17 ,  48406.37 ,\n",
       "        102503.984, 132148.39 , 137535.64 ,  74591.69 ,  68103.71 ,\n",
       "        140344.47 , 117743.27 ,  75664.61 ,  49482.344,  68103.71 ,\n",
       "         51553.043,  93501.375,  55126.848, 193304.89 , 154082.58 ,\n",
       "        153686.7  , 159858.88 ,  65361.66 ,  43272.48 ,  96328.055,\n",
       "        105488.05 ,  54440.58 , 132148.39 ,  77253.055,  80329.86 ,\n",
       "         68103.71 , 129172.96 ,  43272.48 ,  44787.207,  64273.633,\n",
       "         71959.51 , 101608.51 ,  77751.07 ,  52672.984, 159358.53 ],\n",
       "       dtype=float32),\n",
       " 'residuals': 327    22917.390625\n",
       " 33    -33076.820312\n",
       " 15      9875.890625\n",
       " 314   -11857.871094\n",
       " 57      2554.609375\n",
       "            ...     \n",
       " 94      3040.492188\n",
       " 195   -11608.507812\n",
       " 311     7248.929688\n",
       " 292     7327.015625\n",
       " 346      641.468750\n",
       " Name: Salary, Length: 75, dtype: float64}"
      ]
     },
     "execution_count": 3,
     "metadata": {},
     "output_type": "execute_result"
    },
    {
     "data": {
      "text/plain": [
       "<Figure size 1000x600 with 0 Axes>"
      ]
     },
     "metadata": {},
     "output_type": "display_data"
    },
    {
     "data": {
      "image/png": "[encoded data removed]",
      "text/plain": [
       "<Figure size 1150x660 with 1 Axes>"
      ]
     },
     "metadata": {},
     "output_type": "display_data"
    }
   ],
   "source": [
    "#use the test dataset to predict salaries based on the trained model for a first fast evaluation.\n",
    "\n",
    "nn_model = keras.models.load_model('./models/neural_network_model.keras')\n",
    "\n",
    "evaluation.evaluate_NN_model(normalized_X_test_nn, y_test,normalized_X_train_nn, nn_model)"
   ]
  },
  {
   "cell_type": "code",
   "execution_count": null,
   "metadata": {},
   "outputs": [],
   "source": [
    "nn_model = keras.models.load_model('./models/neural_network_model.keras')\n",
    "\n",
    "\n",
    "evaluation.calculate_metrics(normalized_X_test_nn, y_test, nn_model)"
   ]
  },
  {
   "cell_type": "markdown",
   "metadata": {},
   "source": [
    "# 4 Model Comparison\n",
    "Comparing the performance of all models using metrics such as accuracy, mean squared error (MSE), and R-squared to determine the best-performing model."
   ]
  },
  {
   "cell_type": "code",
   "execution_count": null,
   "metadata": {},
   "outputs": [],
   "source": [
    "nn_model = keras.models.load_model('./models/neural_network_model.keras')\n",
    "dummy = joblib.load(open('./models/dummy_reggresor_model.pkl', 'rb'))\n",
    "rf_model = joblib.load(open('./models/random_forest_model.pkl', 'rb'))\n",
    "\n",
    "\n",
    "\n",
    "models_data = {\n",
    "    'Random Forest': (rf_model, normalized_X_test, y_test),\n",
    "    'Neural Network': (nn_model, normalized_X_test_nn, y_test),\n",
    "    'Dummy Regresson': (dummy, normalized_X_test, y_test)\n",
    "}\n",
    "\n",
    "comparison_results = model_compare.compare_models(models_data, y_test)\n"
   ]
  },
  {
   "cell_type": "markdown",
   "metadata": {},
   "source": [
    "### 4.1 Final Model Selection"
   ]
  },
  {
   "cell_type": "markdown",
   "metadata": {},
   "source": [
    "After generation both aproaches for modeling the problem i settled on using the neural network approach since it seems to capture better the relationships between the features and is in general more precise."
   ]
  },
  {
   "cell_type": "markdown",
   "metadata": {},
   "source": [
    "# 5 Inference\n",
    "\n",
    "Using the best-performing model to make predictions on new or unseen data. This step involves applying the trained model to real-world scenarios or test cases."
   ]
  },
  {
   "cell_type": "code",
   "execution_count": null,
   "metadata": {},
   "outputs": [],
   "source": [
    "job_titles = inference.get_unique_job_titles(prefix=\"nn_\")\n",
    "form = create_input_form(job_titles)\n",
    "display(form)"
   ]
  }
 ],
 "metadata": {
  "kernelspec": {
   "display_name": ".venv",
   "language": "python",
   "name": "python3"
  },
  "language_info": {
   "codemirror_mode": {
    "name": "ipython",
    "version": 3
   },
   "file_extension": ".py",
   "mimetype": "text/x-python",
   "name": "python",
   "nbconvert_exporter": "python",
   "pygments_lexer": "ipython3",
   "version": "3.12.3"
  }
 },
 "nbformat": 4,
 "nbformat_minor": 2
}
